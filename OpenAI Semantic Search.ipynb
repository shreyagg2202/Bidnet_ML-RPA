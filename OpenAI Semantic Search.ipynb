{
 "cells": [
  {
   "cell_type": "code",
   "execution_count": 28,
   "id": "009c9934",
   "metadata": {},
   "outputs": [],
   "source": [
    "import pandas as pd\n",
    "import matplotlib.pyplot as plt\n",
    "from sklearn.metrics import confusion_matrix, recall_score, precision_score, accuracy_score\n",
    "import seaborn as sns\n",
    "from openai import OpenAI"
   ]
  },
  {
   "cell_type": "code",
   "execution_count": 29,
   "id": "37ad4217",
   "metadata": {},
   "outputs": [
    {
     "data": {
      "text/html": [
       "<div>\n",
       "<style scoped>\n",
       "    .dataframe tbody tr th:only-of-type {\n",
       "        vertical-align: middle;\n",
       "    }\n",
       "\n",
       "    .dataframe tbody tr th {\n",
       "        vertical-align: top;\n",
       "    }\n",
       "\n",
       "    .dataframe thead th {\n",
       "        text-align: right;\n",
       "    }\n",
       "</style>\n",
       "<table border=\"1\" class=\"dataframe\">\n",
       "  <thead>\n",
       "    <tr style=\"text-align: right;\">\n",
       "      <th></th>\n",
       "      <th>Title</th>\n",
       "      <th>Description</th>\n",
       "      <th>Tags</th>\n",
       "      <th>Relevant?</th>\n",
       "      <th>Remarks</th>\n",
       "    </tr>\n",
       "  </thead>\n",
       "  <tbody>\n",
       "    <tr>\n",
       "      <th>0</th>\n",
       "      <td>E-Rate Cat. 2 - Wireless Network, UPS units, D...</td>\n",
       "      <td>The Denver Public Library (DPL) is seeking pro...</td>\n",
       "      <td>None</td>\n",
       "      <td>No</td>\n",
       "      <td>NaN</td>\n",
       "    </tr>\n",
       "    <tr>\n",
       "      <th>1</th>\n",
       "      <td>009-24 RFP Interpretation and Translation Serv...</td>\n",
       "      <td>DCSD is requesting proposals from qualified fi...</td>\n",
       "      <td>None</td>\n",
       "      <td>No</td>\n",
       "      <td>NaN</td>\n",
       "    </tr>\n",
       "    <tr>\n",
       "      <th>2</th>\n",
       "      <td>Survive and Thrive: Application and Payment Pr...</td>\n",
       "      <td>Boulder County Department of Housing and Human...</td>\n",
       "      <td>None</td>\n",
       "      <td>No</td>\n",
       "      <td>NaN</td>\n",
       "    </tr>\n",
       "    <tr>\n",
       "      <th>3</th>\n",
       "      <td>Parking Garage &amp; Parking Lot Security Services</td>\n",
       "      <td>The City of Colorado Springs Parking System En...</td>\n",
       "      <td>None</td>\n",
       "      <td>No</td>\n",
       "      <td>NaN</td>\n",
       "    </tr>\n",
       "    <tr>\n",
       "      <th>4</th>\n",
       "      <td>Eaton UPS Replacements FY24</td>\n",
       "      <td>The University of Northern Colorado (“Universi...</td>\n",
       "      <td>None</td>\n",
       "      <td>No</td>\n",
       "      <td>NaN</td>\n",
       "    </tr>\n",
       "  </tbody>\n",
       "</table>\n",
       "</div>"
      ],
      "text/plain": [
       "                                               Title  \\\n",
       "0  E-Rate Cat. 2 - Wireless Network, UPS units, D...   \n",
       "1  009-24 RFP Interpretation and Translation Serv...   \n",
       "2  Survive and Thrive: Application and Payment Pr...   \n",
       "3     Parking Garage & Parking Lot Security Services   \n",
       "4                        Eaton UPS Replacements FY24   \n",
       "\n",
       "                                         Description  Tags Relevant? Remarks  \n",
       "0  The Denver Public Library (DPL) is seeking pro...  None        No     NaN  \n",
       "1  DCSD is requesting proposals from qualified fi...  None        No     NaN  \n",
       "2  Boulder County Department of Housing and Human...  None        No     NaN  \n",
       "3  The City of Colorado Springs Parking System En...  None        No     NaN  \n",
       "4  The University of Northern Colorado (“Universi...  None        No     NaN  "
      ]
     },
     "execution_count": 29,
     "metadata": {},
     "output_type": "execute_result"
    }
   ],
   "source": [
    "df = pd.read_excel(r\"C:\\Users\\Dnin\\Desktop\\bidnet_dataset_02122024_V1.xlsx\")\n",
    "df.head()"
   ]
  },
  {
   "cell_type": "code",
   "execution_count": 30,
   "id": "bdab998d",
   "metadata": {},
   "outputs": [],
   "source": [
    "df['Description'] = df['Title'].fillna('') + ' - ' + df['Description'].fillna('')\n",
    "\n",
    "df['Relevant?'] = df['Relevant?'].map({'Yes': True, 'No': False}).astype(bool)\n",
    "\n",
    "df['Tags'] = df['Tags'].apply(lambda x:[tag.strip() for tag in x.split(',')] if x != \"None\" else [])"
   ]
  },
  {
   "cell_type": "code",
   "execution_count": 31,
   "id": "f58e7880",
   "metadata": {},
   "outputs": [],
   "source": [
    "client = OpenAI(api_key=\"***\")\n",
    "model = \"gpt-3.5-turbo-0125\""
   ]
  },
  {
   "cell_type": "code",
   "execution_count": 48,
   "id": "75c32aaa",
   "metadata": {},
   "outputs": [],
   "source": [
    "def chatGPTResponse(row, model):\n",
    "    description = row['Description']\n",
    "    completion = client.chat.completions.create(\n",
    "      model=model,\n",
    "      messages=[\n",
    "        {\"role\": \"system\", \n",
    "         \"content\": \"Your task is to evaluate Request for Proposals (RFPs) and determine their relevance to our company's services and expertise areas. These RFPs are sourced from a portal, and our decision to pursue them depends on their alignment with specific keywords. The keywords include: digital transformation, artificial intelligence, machine learning, analytics, data engineering, salesforce, grants, licensing, permits, lightning experience, lightning migration, case management, data warehouse, automation, RPA (robotic process automation), advisory, application development, document management, apex, visualforce, einstein analytics, tableau, power bi, crm. You must carefully assess the context in which these keywords appear in the RFP description to ensure an accurate match. You will only respond with the keyword the description matches the most with. If there's no match, respond with 'No'. In cases of ambiguity or multiple relevant keywords, provide the best match based on the description's emphasis. We prioritize capturing potential opportunities, even at the risk of including less relevant RFPs.\"},\n",
    "        {\"role\": \"user\", \"content\": f\"Description - {description}\"}\n",
    "      ]\n",
    "    )\n",
    "    response = completion.choices[0].message.content\n",
    "    tokens_used = completion.usage.total_tokens\n",
    "    return response, tokens_used\n",
    "\n",
    "def check_relevance(row):\n",
    "    relevance = False if 'No' in row['Relevant Tags'] else True\n",
    "    return relevance"
   ]
  },
  {
   "cell_type": "code",
   "execution_count": 49,
   "id": "cf55f8c7",
   "metadata": {},
   "outputs": [],
   "source": [
    "# print(\"Response:\" ,completion.choices[0].message.content)\n",
    "# print(\"Tokens Used:\" ,completion.usage.total_tokens)"
   ]
  },
  {
   "cell_type": "code",
   "execution_count": 50,
   "id": "61094765",
   "metadata": {},
   "outputs": [],
   "source": [
    "df[['Relevant Tags','Tokens']] = df.apply(lambda row: chatGPTResponse(row,model), axis=1,result_type='expand')"
   ]
  },
  {
   "cell_type": "code",
   "execution_count": 51,
   "id": "231b6c4a",
   "metadata": {},
   "outputs": [
    {
     "name": "stdout",
     "output_type": "stream",
     "text": [
      "0.023245000000000002\n"
     ]
    }
   ],
   "source": [
    "total_tokens_used = df['Tokens'].sum()\n",
    "cost = (total_tokens_used/1000) * 0.0005\n",
    "print(cost)"
   ]
  },
  {
   "cell_type": "code",
   "execution_count": 52,
   "id": "fa519abf",
   "metadata": {},
   "outputs": [],
   "source": [
    "df['Predicted Relevance'] = df.apply(check_relevance, axis=1)"
   ]
  },
  {
   "cell_type": "code",
   "execution_count": 53,
   "id": "50a7a025",
   "metadata": {},
   "outputs": [
    {
     "name": "stdout",
     "output_type": "stream",
     "text": [
      "Precision: 0.8333333333333334\n",
      "Recall: 0.8695652173913043\n",
      "Accuracy: 0.9461538461538461\n"
     ]
    }
   ],
   "source": [
    "precision = precision_score(df['Relevant?'], df['Predicted Relevance'])\n",
    "recall = recall_score(df['Relevant?'], df['Predicted Relevance'])\n",
    "accuracy = accuracy_score(df['Relevant?'], df['Predicted Relevance'])\n",
    "\n",
    "print(\"Precision:\", precision)\n",
    "print(\"Recall:\", recall)\n",
    "print(\"Accuracy:\", accuracy)"
   ]
  },
  {
   "cell_type": "code",
   "execution_count": 54,
   "id": "5d6bcb41",
   "metadata": {},
   "outputs": [
    {
     "data": {
      "image/png": "[encoded data removed]",
      "text/plain": [
       "<Figure size 800x600 with 2 Axes>"
      ]
     },
     "metadata": {},
     "output_type": "display_data"
    }
   ],
   "source": [
    "conf_mat = confusion_matrix(df['Relevant?'], df['Predicted Relevance'])\n",
    "# Plotting Confusion Matrix\n",
    "plt.figure(figsize=(8, 6))\n",
    "sns.heatmap(conf_mat, annot=True, fmt='d', cmap='Blues')\n",
    "plt.title('Confusion Matrix')\n",
    "plt.xlabel('Predicted Relevance')\n",
    "plt.ylabel('Actual Relevance')\n",
    "plt.show()"
   ]
  },
  {
   "cell_type": "code",
   "execution_count": 58,
   "id": "d434cb05",
   "metadata": {},
   "outputs": [
    {
     "data": {
      "text/html": [
       "<div>\n",
       "<style scoped>\n",
       "    .dataframe tbody tr th:only-of-type {\n",
       "        vertical-align: middle;\n",
       "    }\n",
       "\n",
       "    .dataframe tbody tr th {\n",
       "        vertical-align: top;\n",
       "    }\n",
       "\n",
       "    .dataframe thead th {\n",
       "        text-align: right;\n",
       "    }\n",
       "</style>\n",
       "<table border=\"1\" class=\"dataframe\">\n",
       "  <thead>\n",
       "    <tr style=\"text-align: right;\">\n",
       "      <th></th>\n",
       "      <th>Title</th>\n",
       "      <th>Description</th>\n",
       "      <th>Tags</th>\n",
       "      <th>Relevant?</th>\n",
       "      <th>Remarks</th>\n",
       "      <th>Relevant Tags</th>\n",
       "      <th>Tokens</th>\n",
       "      <th>Predicted Relevance</th>\n",
       "    </tr>\n",
       "  </thead>\n",
       "  <tbody>\n",
       "    <tr>\n",
       "      <th>5</th>\n",
       "      <td>Enterprise Resource Planning Readiness Consultant</td>\n",
       "      <td>Enterprise Resource Planning Readiness Consult...</td>\n",
       "      <td>[]</td>\n",
       "      <td>False</td>\n",
       "      <td>Its not relevant but its okay if its classifie...</td>\n",
       "      <td>Automation</td>\n",
       "      <td>356</td>\n",
       "      <td>True</td>\n",
       "    </tr>\n",
       "    <tr>\n",
       "      <th>13</th>\n",
       "      <td>Labor Market Data Tool</td>\n",
       "      <td>Labor Market Data Tool - CDLE is seeking quota...</td>\n",
       "      <td>[]</td>\n",
       "      <td>False</td>\n",
       "      <td>NaN</td>\n",
       "      <td>analytics</td>\n",
       "      <td>404</td>\n",
       "      <td>True</td>\n",
       "    </tr>\n",
       "    <tr>\n",
       "      <th>26</th>\n",
       "      <td>Leave Management Software</td>\n",
       "      <td>Leave Management Software - Weld County is loo...</td>\n",
       "      <td>[]</td>\n",
       "      <td>False</td>\n",
       "      <td>NaN</td>\n",
       "      <td>RPA (robotic process automation)</td>\n",
       "      <td>273</td>\n",
       "      <td>True</td>\n",
       "    </tr>\n",
       "    <tr>\n",
       "      <th>79</th>\n",
       "      <td>Town of Buena Vista Comprehensive Plan 2024</td>\n",
       "      <td>Town of Buena Vista Comprehensive Plan 2024 - ...</td>\n",
       "      <td>[]</td>\n",
       "      <td>False</td>\n",
       "      <td>NaN</td>\n",
       "      <td>Grants</td>\n",
       "      <td>592</td>\n",
       "      <td>True</td>\n",
       "    </tr>\n",
       "  </tbody>\n",
       "</table>\n",
       "</div>"
      ],
      "text/plain": [
       "                                                Title  \\\n",
       "5   Enterprise Resource Planning Readiness Consultant   \n",
       "13                             Labor Market Data Tool   \n",
       "26                          Leave Management Software   \n",
       "79        Town of Buena Vista Comprehensive Plan 2024   \n",
       "\n",
       "                                          Description Tags  Relevant?  \\\n",
       "5   Enterprise Resource Planning Readiness Consult...   []      False   \n",
       "13  Labor Market Data Tool - CDLE is seeking quota...   []      False   \n",
       "26  Leave Management Software - Weld County is loo...   []      False   \n",
       "79  Town of Buena Vista Comprehensive Plan 2024 - ...   []      False   \n",
       "\n",
       "                                              Remarks  \\\n",
       "5   Its not relevant but its okay if its classifie...   \n",
       "13                                                NaN   \n",
       "26                                                NaN   \n",
       "79                                                NaN   \n",
       "\n",
       "                       Relevant Tags  Tokens  Predicted Relevance  \n",
       "5                         Automation     356                 True  \n",
       "13                         analytics     404                 True  \n",
       "26  RPA (robotic process automation)     273                 True  \n",
       "79                            Grants     592                 True  "
      ]
     },
     "execution_count": 58,
     "metadata": {},
     "output_type": "execute_result"
    }
   ],
   "source": [
    "df.loc[(df['Relevant?'] == False) & (df['Predicted Relevance'] == True)]"
   ]
  },
  {
   "cell_type": "code",
   "execution_count": 57,
   "id": "4301a0c2",
   "metadata": {},
   "outputs": [
    {
     "data": {
      "text/html": [
       "<div>\n",
       "<style scoped>\n",
       "    .dataframe tbody tr th:only-of-type {\n",
       "        vertical-align: middle;\n",
       "    }\n",
       "\n",
       "    .dataframe tbody tr th {\n",
       "        vertical-align: top;\n",
       "    }\n",
       "\n",
       "    .dataframe thead th {\n",
       "        text-align: right;\n",
       "    }\n",
       "</style>\n",
       "<table border=\"1\" class=\"dataframe\">\n",
       "  <thead>\n",
       "    <tr style=\"text-align: right;\">\n",
       "      <th></th>\n",
       "      <th>Title</th>\n",
       "      <th>Description</th>\n",
       "      <th>Tags</th>\n",
       "      <th>Relevant?</th>\n",
       "      <th>Remarks</th>\n",
       "      <th>Relevant Tags</th>\n",
       "      <th>Tokens</th>\n",
       "      <th>Predicted Relevance</th>\n",
       "    </tr>\n",
       "  </thead>\n",
       "  <tbody>\n",
       "    <tr>\n",
       "      <th>15</th>\n",
       "      <td>FAMLI PREMIUMS, BENEFITS AND DMS SYSTEM IMPLEM...</td>\n",
       "      <td>FAMLI PREMIUMS, BENEFITS AND DMS SYSTEM IMPLEM...</td>\n",
       "      <td>[digital transformation, document management]</td>\n",
       "      <td>True</td>\n",
       "      <td>NaN</td>\n",
       "      <td>No</td>\n",
       "      <td>472</td>\n",
       "      <td>False</td>\n",
       "    </tr>\n",
       "    <tr>\n",
       "      <th>24</th>\n",
       "      <td>RFP# 1173 - Website Monitoring, Support, and D...</td>\n",
       "      <td>RFP# 1173 - Website Monitoring, Support, and D...</td>\n",
       "      <td>[application development]</td>\n",
       "      <td>True</td>\n",
       "      <td>NaN</td>\n",
       "      <td>No</td>\n",
       "      <td>362</td>\n",
       "      <td>False</td>\n",
       "    </tr>\n",
       "    <tr>\n",
       "      <th>41</th>\n",
       "      <td>Inventory, Recipe, and Menu Management Software</td>\n",
       "      <td>Inventory, Recipe, and Menu Management Softwar...</td>\n",
       "      <td>[application development]</td>\n",
       "      <td>True</td>\n",
       "      <td>NaN</td>\n",
       "      <td>No</td>\n",
       "      <td>305</td>\n",
       "      <td>False</td>\n",
       "    </tr>\n",
       "  </tbody>\n",
       "</table>\n",
       "</div>"
      ],
      "text/plain": [
       "                                                Title  \\\n",
       "15  FAMLI PREMIUMS, BENEFITS AND DMS SYSTEM IMPLEM...   \n",
       "24  RFP# 1173 - Website Monitoring, Support, and D...   \n",
       "41    Inventory, Recipe, and Menu Management Software   \n",
       "\n",
       "                                          Description  \\\n",
       "15  FAMLI PREMIUMS, BENEFITS AND DMS SYSTEM IMPLEM...   \n",
       "24  RFP# 1173 - Website Monitoring, Support, and D...   \n",
       "41  Inventory, Recipe, and Menu Management Softwar...   \n",
       "\n",
       "                                             Tags  Relevant? Remarks  \\\n",
       "15  [digital transformation, document management]       True     NaN   \n",
       "24                      [application development]       True     NaN   \n",
       "41                      [application development]       True     NaN   \n",
       "\n",
       "   Relevant Tags  Tokens  Predicted Relevance  \n",
       "15            No     472                False  \n",
       "24            No     362                False  \n",
       "41            No     305                False  "
      ]
     },
     "execution_count": 57,
     "metadata": {},
     "output_type": "execute_result"
    }
   ],
   "source": [
    "df.loc[(df['Relevant?'] == True) & (df['Predicted Relevance'] == False)]"
   ]
  },
  {
   "cell_type": "code",
   "execution_count": 60,
   "id": "7073295e",
   "metadata": {},
   "outputs": [],
   "source": [
    "from openai import OpenAI\n",
    "\n",
    "def semantic_search(api_key, description):\n",
    "    client = OpenAI(api_key=api_key)\n",
    "    model = \"gpt-3.5-turbo-0125\"\n",
    "    \n",
    "    completion = client.chat.completions.create(\n",
    "      model=model,\n",
    "      messages=[\n",
    "        {\"role\": \"system\", \n",
    "         \"content\": \"Your task is to evaluate Request for Proposals (RFPs) and determine their relevance to our company's services and expertise areas. These RFPs are sourced from a portal, and our decision to pursue them depends on their alignment with specific keywords. The keywords include: digital transformation, artificial intelligence, machine learning, analytics, data engineering, salesforce, grants, licensing, permits, lightning experience, lightning migration, case management, data warehouse, automation, RPA (robotic process automation), advisory, application development, document management, apex, visualforce, einstein analytics, tableau, power bi, crm. You must carefully assess the context in which these keywords appear in the RFP description to ensure an accurate match. You will only respond with the keyword the description matches the most with. If there's no match, respond with 'No'. In cases of ambiguity or multiple relevant keywords, provide the best match based on the description's emphasis. We prioritize capturing potential opportunities, even at the risk of including less relevant RFPs.\"},\n",
    "        {\"role\": \"user\", \"content\": f\"Description - {description}\"}\n",
    "      ]\n",
    "    )\n",
    "    response = completion.choices[0].message.content\n",
    "    return response"
   ]
  },
  {
   "cell_type": "code",
   "execution_count": 61,
   "id": "f4820da0",
   "metadata": {},
   "outputs": [
    {
     "name": "stdout",
     "output_type": "stream",
     "text": [
      "licensing\n"
     ]
    }
   ],
   "source": [
    "print(semantic_search(\"***\",\"Digital Adoption Platform license to use for in-app training with the move to Oracle HCM/ERP, as well as other programs to better support the long-term training strategy set forth by the district\"))"
   ]
  },
  {
   "cell_type": "code",
   "execution_count": null,
   "id": "5bd1f07b",
   "metadata": {},
   "outputs": [],
   "source": []
  }
 ],
 "metadata": {
  "kernelspec": {
   "display_name": "Python 3 (ipykernel)",
   "language": "python",
   "name": "python3"
  },
  "language_info": {
   "codemirror_mode": {
    "name": "ipython",
    "version": 3
   },
   "file_extension": ".py",
   "mimetype": "text/x-python",
   "name": "python",
   "nbconvert_exporter": "python",
   "pygments_lexer": "ipython3",
   "version": "3.11.4"
  }
 },
 "nbformat": 4,
 "nbformat_minor": 5
}
