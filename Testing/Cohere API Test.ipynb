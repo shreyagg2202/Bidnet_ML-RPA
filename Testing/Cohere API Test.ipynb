{
 "cells": [
  {
   "cell_type": "code",
   "execution_count": 2,
   "id": "b0ee5672",
   "metadata": {},
   "outputs": [],
   "source": [
    "import cohere"
   ]
  },
  {
   "cell_type": "code",
   "execution_count": 3,
   "id": "5533d970",
   "metadata": {},
   "outputs": [],
   "source": [
    "api_key=\"***\"\n",
    "\n",
    "co = cohere.Client(api_key)"
   ]
  },
  {
   "cell_type": "code",
   "execution_count": 17,
   "id": "ca7700a6",
   "metadata": {},
   "outputs": [],
   "source": [
    "query = \"Your job is to find if a particular description matches a set of keywords. Your response will be precise and you will only respond with the keyword the description matches the most with. \\\n",
    "           If it does not match with any keyword just respond with 'No'Description: Procure a consultant to conduct a needs assessment and document all aspects of its current Enterprise Resource Planning (ERP) systems.  The selected consultant will evaluate current workflow processes and systems, both manual and automated, and recommend improvements. Additionally, the consultant would lead the preparation of a comprehensive Statement of Work (SOW) and Request for Proposal (RFP) for the replacement of existing Enterprise Resource Planning System (ERP). The consultant would provide assistance in the evaluation process of responses to the RFP and final selection of an ERP system and implementation vendor. The district is not seeking a consultant that has experience with only one ERP system\"\n",
    "keywords = [\"digital transformation\",\"artificial intelligence\", \"machine learning\", \"analytics\",\\\n",
    "            \"salesforce\", \"grants\", \"licensing and permits\", \"lightning experience, lightning migration\",\\\n",
    "            \"case management\", \"data warehouse\", \"automation\", \"rpa ; robotic process automation\"]"
   ]
  },
  {
   "cell_type": "code",
   "execution_count": 24,
   "id": "34e19200",
   "metadata": {},
   "outputs": [
    {
     "data": {
      "text/plain": [
       "cohere.Chat {\n",
       "\tid: cbaad89a-725e-48e6-be8f-e2c6d97c4439\n",
       "\tresponse_id: cbaad89a-725e-48e6-be8f-e2c6d97c4439\n",
       "\tgeneration_id: 9b9324e9-d992-446b-acad-728029f25a64\n",
       "\tmessage: Description: Procure a consultant to conduct a needs assessment and document all aspects of its current Enterprise Resource Planning (ERP) systems.  The selected consultant will evaluate current workflow processes and systems, both manual and automated, and recommend improvements. Additionally, the consultant would lead the preparation of a comprehensive Statement of Work (SOW) and Request for Proposal (RFP) for the replacement of existing Enterprise Resource Planning System (ERP). The consultant would provide assistance in the evaluation process of responses to the RFP and final selection of an ERP system and implementation vendor. The district is not seeking a consultant that has experience with only one ERP system.\n",
       "\ttext: Sure, here is a description that aligns with the aforementioned criteria: \n",
       "\n",
       "\"To streamline our operations, we are seeking a highly skilled consultant to guide our organization through a comprehensive needs assessment and documentation of our current Enterprise Resource Planning (ERP) systems. The selected consultant will play a pivotal role in our commitment to optimizing our workflow processes and systems.\n",
       "\n",
       "Their tasks will include a thorough evaluation of our current landscape, both manual and automated, to pinpoint areas for improvement and propose innovative solutions. They will then lead the charge in preparing a robust Statement of Work (SOW) and Request for Proposal (RFP) as we seek to replace our existing ERP system.\n",
       "\n",
       "The ideal candidate will bring a holistic understanding of ERPs and their potential to align with our unique needs. They will provide indispensable assistance in evaluating the responses to our RFP and support us in making a final decision on the selection of an ERP system and implementation vendor. It is essential that the consultant not be limited to knowledge of a single ERP system, and have a breadth of experience to draw upon to ensure the best outcome for our organization. \n",
       "\n",
       "This is a unique opportunity to join our team and make a long-lasting impact by shaping the future of our ERP systems and ultimately driving our success.\" \n",
       "\n",
       "Let me know if you would like any adjustments made to this description.\n",
       "\tconversation_id: None\n",
       "\tprompt: None\n",
       "\tchat_history: None\n",
       "\tpreamble: None\n",
       "\tclient: <cohere.client.Client object at 0x00000218DB44DD50>\n",
       "\ttoken_count: {'prompt_tokens': 190, 'response_tokens': 271, 'total_tokens': 461, 'billed_tokens': 565}\n",
       "\tmeta: {'api_version': {'version': '1'}, 'billed_units': {'input_tokens': 294, 'output_tokens': 271}}\n",
       "\tis_search_required: None\n",
       "\tcitations: None\n",
       "\tdocuments: None\n",
       "\tsearch_results: None\n",
       "\tsearch_queries: None\n",
       "}"
      ]
     },
     "execution_count": 24,
     "metadata": {},
     "output_type": "execute_result"
    }
   ],
   "source": [
    "# results = co.rerank(query=query, documents=keywords, top_n=1, model='rerank-english-v2.0')\n",
    "co.chat(\n",
    "  chat_history=[\n",
    "    {\"role\": \"SYSTEM\", \"message\": \"You are a human whose job is to find if a particular description matches a set of keywords.\\\n",
    "             The Keywords are digital transformation, artificial intelligence, machine learning, Analytics, data engineering,\\\n",
    "            salesforce, grants, licensing and permits, lightning experience, lightning migration,\\\n",
    "            case management, data warehouse, automation, rpa ; robotic process automation , consultancy, advisory,\\\n",
    "           application development and maintenance. \\\n",
    "           Your response will be precise and you will only respond with the keyword the description matches the most with. \\\n",
    "           If it does not match with any keyword just respond with 'No'\"}],\n",
    "    message = \"Description: Procure a consultant to conduct a needs assessment and document all aspects of its current Enterprise Resource Planning (ERP) systems.  The selected consultant will evaluate current workflow processes and systems, both manual and automated, and recommend improvements. Additionally, the consultant would lead the preparation of a comprehensive Statement of Work (SOW) and Request for Proposal (RFP) for the replacement of existing Enterprise Resource Planning System (ERP). The consultant would provide assistance in the evaluation process of responses to the RFP and final selection of an ERP system and implementation vendor. The district is not seeking a consultant that has experience with only one ERP system.\")"
   ]
  },
  {
   "cell_type": "code",
   "execution_count": 19,
   "id": "9483e8ef",
   "metadata": {},
   "outputs": [
    {
     "data": {
      "text/plain": [
       "[RerankResult<document['text']: lightning experience, lightning migration, index: 7, relevance_score: 0.7102265>]"
      ]
     },
     "execution_count": 19,
     "metadata": {},
     "output_type": "execute_result"
    }
   ],
   "source": [
    "results"
   ]
  },
  {
   "cell_type": "code",
   "execution_count": null,
   "id": "46f1cd47",
   "metadata": {},
   "outputs": [],
   "source": []
  }
 ],
 "metadata": {
  "kernelspec": {
   "display_name": "Python 3 (ipykernel)",
   "language": "python",
   "name": "python3"
  },
  "language_info": {
   "codemirror_mode": {
    "name": "ipython",
    "version": 3
   },
   "file_extension": ".py",
   "mimetype": "text/x-python",
   "name": "python",
   "nbconvert_exporter": "python",
   "pygments_lexer": "ipython3",
   "version": "3.11.4"
  }
 },
 "nbformat": 4,
 "nbformat_minor": 5
}
