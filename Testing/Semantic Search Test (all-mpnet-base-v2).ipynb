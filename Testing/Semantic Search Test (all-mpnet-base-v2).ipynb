{
 "cells": [
  {
   "cell_type": "code",
   "execution_count": 30,
   "id": "5852fec4",
   "metadata": {},
   "outputs": [],
   "source": [
    "import numpy as np\n",
    "from sentence_transformers import SentenceTransformer\n",
    "from sklearn.metrics.pairwise import cosine_similarity"
   ]
  },
  {
   "cell_type": "code",
   "execution_count": 31,
   "id": "10e0c369",
   "metadata": {},
   "outputs": [],
   "source": [
    "model = SentenceTransformer('all-mpnet-base-v2')\n",
    "#model = SentenceTransformer('multi-qa-mpnet-base-dot-v1')"
   ]
  },
  {
   "cell_type": "code",
   "execution_count": 32,
   "id": "b3aec6ca",
   "metadata": {},
   "outputs": [],
   "source": [
    "keywords = [\"digital transformation\", \"artificial intelligence\", \"machine learning\", \"Analytics\", \"data engineering\",\\\n",
    "            \"salesforce\", \"grants\", \"licensing\", \"permits\", \"lightning experience, lightning migration\",\\\n",
    "            \"case management\", \"data warehouse\", \"automation\", \"rpa\", \"robotic process automation\" , \"consultancy\", \"advisory\",\\\n",
    "           \"application development\"]\n",
    "#description = \"Shrey is smart. He is very interested in History and stock market. He works for a tranport company and is a logistics manager\"\n",
    "#description = \"Integrate RPA solutions with existing systems and applications, ensuring seamless data flow and communication between the RPA bots and other systems.\"\n",
    "#description = \"DPS needs a turn-key asset management system designed to meet the needs of K-12 education that provides more automation in asset management and tracking, robust reporting, an easy to use interface, ensures data integrity, and that frees up the need for manually driven processes.\"\n",
    "#description = \"Specifications include, but are not limited to: The Regional Transportation District (RTD) has conducted a process analysis that identified a current lack of process standardization, system structure, workflow, and aggregate outcome reporting related to a variety of different types of workplace investigations. Therefore, RTD is seeking a case management system for internal investigations to support operations, human resources, and the Equal Employment Opportunity division of the Civil Rights Department. RTD is seeking a robust vendor-supported, software as a service (SaaS) or platform as a service (PaaS) solution from a vendor who will also provide ongoing system maintenance and upgrades, and user-training on the system. The vendor’s case management system will provide functional support that meets RTD’s business requirements using a product that is scalable, fault-tolerant, and meets RTD’s data security, legal, continuity, and disaster recovery requirements. For clarity, RTD does not want an onsite case management system where RTD is responsible for building and maintaining the infrastructure and software. In addition, RTD desires a SaaS or PasS solution that utilizes best practices in user interface/user design, and a vendor who will maintain the system while allowing RTD to own the data.\"\n",
    "description = \"Procure a consultant to conduct a needs assessment and document all aspects of its current Enterprise Resource Planning (ERP) systems.  The selected consultant will evaluate current workflow processes and systems, both manual and automated, and recommend improvements. Additionally, the consultant would lead the preparation of a comprehensive Statement of Work (SOW) and Request for Proposal (RFP) for the replacement of existing Enterprise Resource Planning System (ERP). The consultant would provide assistance in the evaluation process of responses to the RFP and final selection of an ERP system and implementation vendor. The district is not seeking a consultant that has experience with only one ERP system.\""
   ]
  },
  {
   "cell_type": "code",
   "execution_count": 33,
   "id": "8a15fe7a",
   "metadata": {},
   "outputs": [],
   "source": [
    "#!/usr/bin/env python\n",
    "# coding: utf-8\n",
    "\n",
    "# In[96]:\n",
    "\n",
    "\n",
    "import numpy as np\n",
    "from sentence_transformers import SentenceTransformer\n",
    "from sklearn.metrics.pairwise import cosine_similarity\n",
    "import re\n",
    "\n",
    "\n",
    "# In[87]:\n",
    "def semantic_search(description):\n",
    "    \n",
    "    model = SentenceTransformer('all-mpnet-base-v2')\n",
    "    #model = SentenceTransformer('multi-qa-mpnet-base-dot-v1')\n",
    "\n",
    "\n",
    "    # In[92]:\n",
    "\n",
    "\n",
    "    keywords = [\"digital transformation\", \"artificial intelligence\", \"machine learning\", \"analytics\", \"data engineering\",\\\n",
    "            \"salesforce\", \"grants\", \"licensing\", \"permits\", \"lightning experience\", \"lightning migration\",\\\n",
    "            \"case management\", \"data warehouse\", \"automation\", \"robotic process automation\" , \"advisory\",\\\n",
    "           \"application development\",\"document management\",\"apex\",\"visualforce\",\"einstein analytics\",\"tableau\",\"power bi\",\"crm\"]\n",
    "\n",
    "    # In[93]:\n",
    "\n",
    "\n",
    "    description_embedding = model.encode(description)\n",
    "    keyword_embeddings = np.array([model.encode(keyword) for keyword in keywords])\n",
    "\n",
    "\n",
    "    # In[94]:\n",
    "\n",
    "    def keyword_search(description, keywords):\n",
    "        matching_keywords = []\n",
    "        for keyword in keywords:\n",
    "            if re.search(keyword, description, re.IGNORECASE):  # Case insensitive search\n",
    "                matching_keywords.append(keyword)\n",
    "        return matching_keywords\n",
    "\n",
    "    def calculate_cosine_similarity(description_embedding):\n",
    "        similarities= {}\n",
    "        for keyword, keyword_embedding in zip(keywords, keyword_embeddings):\n",
    "            similarity = cosine_similarity([keyword_embedding], [description_embedding])[0][0]\n",
    "            similarities[keyword] = similarity\n",
    "            #print(f\"Similarity with '{keyword}':\", similarities[keyword])\n",
    "            \n",
    "        print(similarities)\n",
    "        return similarities\n",
    "\n",
    "    def predict_tags(description_embedding, keywords, threshold):\n",
    "        similarities_tags = calculate_cosine_similarity(description_embedding)\n",
    "        filtered_sorted_tags = sorted([(keyword, score) for keyword, score in similarities_tags.items() if score > threshold], key=lambda x: x[1], reverse=True)\n",
    "        top_3_tags = [tag for tag, _ in filtered_sorted_tags[:3]]\n",
    "        \n",
    "        return top_3_tags\n",
    "        \n",
    "    def combine_tags(keyword_matches, similarity_matches):\n",
    "        return list(set(keyword_matches) | set(similarity_matches))\n",
    "    \n",
    "    matching_tags = keyword_search(description, keywords)\n",
    "    \n",
    "    threshold = 0.36\n",
    "    top_3_tags = predict_tags(description_embedding, keywords, threshold)\n",
    "    combined_tags = combine_tags(matching_tags,top_3_tags)\n",
    "    \n",
    "    #matches = [keyword for keyword, score in similarities.items() if score > threshold]\n",
    "    #max_similarity = max(similarities, key= similarities.get, default = \"None\") if len(matches) > 0 else \"None\"\n",
    "\n",
    "    return combined_tags"
   ]
  },
  {
   "cell_type": "code",
   "execution_count": 34,
   "id": "3924bd17",
   "metadata": {},
   "outputs": [
    {
     "name": "stdout",
     "output_type": "stream",
     "text": [
      "{'digital transformation': 0.23365402, 'artificial intelligence': 0.22651476, 'machine learning': 0.14836599, 'analytics': 0.23185605, 'data engineering': 0.28413326, 'salesforce': 0.20966417, 'grants': 0.26905328, 'licensing': 0.19712403, 'permits': 0.17578204, 'lightning experience': 0.1491029, 'lightning migration': -0.042635962, 'case management': 0.2940347, 'data warehouse': 0.24314232, 'automation': 0.19088553, 'robotic process automation': 0.121318415, 'advisory': 0.23550726, 'application development': 0.34621304, 'document management': 0.29245555, 'apex': 0.10427487, 'visualforce': 0.2466613, 'einstein analytics': 0.23510852, 'tableau': 0.13047056, 'power bi': 0.15492809, 'crm': 0.15180641}\n",
      "[]\n"
     ]
    }
   ],
   "source": [
    "desc = \"Specifications include, but are not limited to: The Office of Early Childhood is looking to contract and manage with a vendor to provide operational and maintenance (O&M) services for the following Salesforce Orgs: CHATS Org, DCFS Org, and DECL Org. The OEC is seeking a comprehensive approach to providing support where the OEC is able to address urgent issues impacting day-to-day system use via weekly hot fixe releases, address non urgent issues via monthly bug fix releases, and plan out system improvements and new development via quarterly enhancements. The need for both hotfix and bugfix support and iterative enhancements is shared across the following business units represented by this agreement): Child Care Automated Tracking Org/Application (CHATS): Salesforce (lightning, visualforce, and various salesforce features) Heroku Amazon Web Services Mulesoft Adobe Experience Manager Corticon Attendance Tracking Application (ATS): Salesforce (lightning, visualforce, and various salesforce features) Scribe Quality Rating and Improvement Application(QRIS): Salesforce (lightning, visualforce, and various salesforce features) Scribe Android Child Care Licensing Application and Mobile Application: Salesforce (lightning, visualforce, and various salesforce features) Conga Mobile Caddy Early Intervention (EI): Salesforce (lightning, visualforce, and various salesforce features) Einstein Analytics Colorado Community Response (CCR) Salesforce (lightning, visualforce, and various salesforce features) Mobile Caddy Einstein Analytics Promoting Safe and Stable Families (PSSF) Salesforce (lightning, visualforce, and various salesforce features) Mobile Caddy Einstein Analytics Community Based Child Abuse Prevention (CBCAP) Salesforce (lightning, visualforce, and various salesforce features) Mobile Caddy SafeCare (SC): Salesforce (lightning, visualforce, and various salesforce features) Mobile Caddy Einstein Analytics Family Support Services (FSS) Salesforce (lightning, visualforce, and various salesforce features) Mobile Caddy Early Childhood Mental Health (ECMH): Salesforce (lightning, visualforce, and various salesforce features) Einstein Analytics Southern DIstrict Accounting Salesforce (lightning, visualforce, and various salesforce features)For more information on this solicitation, please click on the following link:https://codpa-vss.cloud.cgifederal.com/webapp/PRDVSS2X1/AltSelfService (opens in a new window)\"\n",
    "print(semantic_search(\"Individualized Education Plan (IEP) and 504 Software System - The District is seeking proposals from qualified vendors to provide an Individualized Education Plan (IEP) and 504 Software System able to meet Colorado State reporting requirements. The software system must be accessible and user-friendly for educators, administrators, and parents. The goal is to streamline the process of creating and managing IEPs and 504s.\"))"
   ]
  },
  {
   "cell_type": "code",
   "execution_count": null,
   "id": "cff2293d",
   "metadata": {},
   "outputs": [],
   "source": []
  }
 ],
 "metadata": {
  "kernelspec": {
   "display_name": "Python 3 (ipykernel)",
   "language": "python",
   "name": "python3"
  },
  "language_info": {
   "codemirror_mode": {
    "name": "ipython",
    "version": 3
   },
   "file_extension": ".py",
   "mimetype": "text/x-python",
   "name": "python",
   "nbconvert_exporter": "python",
   "pygments_lexer": "ipython3",
   "version": "3.11.4"
  }
 },
 "nbformat": 4,
 "nbformat_minor": 5
}
